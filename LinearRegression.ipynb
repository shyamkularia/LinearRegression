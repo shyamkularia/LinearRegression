{
 "cells": [
  {
   "cell_type": "code",
   "execution_count": 2,
   "metadata": {},
   "outputs": [],
   "source": [
    "import numpy as np\n",
    "import pandas as pd\n",
    "import matplotlib.pyplot as plt\n",
    "%matplotlib inline\n",
    "import seaborn as sns\n"
   ]
  },
  {
   "cell_type": "code",
   "execution_count": 3,
   "metadata": {},
   "outputs": [
    {
     "name": "stdout",
     "output_type": "stream",
     "text": [
      "     Age  Area Income  Daily Internet Usage\n",
      "0     35     61833.90                256.09\n",
      "1     31     68441.85                193.77\n",
      "2     26     59785.94                236.50\n",
      "3     29     54806.18                245.89\n",
      "4     35     73889.99                225.58\n",
      "..   ...          ...                   ...\n",
      "995   30     71384.57                208.58\n",
      "996   45     67782.17                134.42\n",
      "997   51     42415.72                120.37\n",
      "998   19     41920.79                187.95\n",
      "999   26     29875.80                178.35\n",
      "\n",
      "[1000 rows x 3 columns]\n"
     ]
    }
   ],
   "source": [
    "df = pd.read_excel (r'C:\\Users\\shyam\\Downloads\\advertising.xlsx')\n",
    "data=df[df.columns[1:4]]\n",
    "print(data)"
   ]
  },
  {
   "cell_type": "code",
   "execution_count": 4,
   "metadata": {},
   "outputs": [
    {
     "data": {
      "text/plain": [
       "<AxesSubplot:>"
      ]
     },
     "execution_count": 4,
     "metadata": {},
     "output_type": "execute_result"
    },
    {
     "data": {
      "image/png": "[encoded data removed]",
      "text/plain": [
       "<Figure size 432x288 with 2 Axes>"
      ]
     },
     "metadata": {
      "needs_background": "light"
     },
     "output_type": "display_data"
    }
   ],
   "source": [
    "sns.heatmap(data.corr())"
   ]
  },
  {
   "cell_type": "code",
   "execution_count": 9,
   "metadata": {},
   "outputs": [],
   "source": [
    "from sklearn.model_selection import train_test_split\n",
    "X=data.iloc[:, :-1].values\n",
    "y=data.iloc[:, :3].values\n",
    "X_train, X_test, y_train, y_test = train_test_split(X, y, test_size=.2, random_state=0)\n",
    "        "
   ]
  },
  {
   "cell_type": "code",
   "execution_count": 10,
   "metadata": {},
   "outputs": [
    {
     "data": {
      "text/plain": [
       "LinearRegression()"
      ]
     },
     "execution_count": 10,
     "metadata": {},
     "output_type": "execute_result"
    }
   ],
   "source": [
    "from sklearn.linear_model import LinearRegression\n",
    "lr = LinearRegression()\n",
    "lr.fit(X_train,y_train)"
   ]
  },
  {
   "cell_type": "code",
   "execution_count": 11,
   "metadata": {},
   "outputs": [
    {
     "data": {
      "text/plain": [
       "array([[2.70000000e+01, 6.62009600e+04, 2.04098407e+02],\n",
       "       [4.30000000e+01, 5.42517800e+04, 1.68169383e+02],\n",
       "       [3.10000000e+01, 6.62694900e+04, 1.97858712e+02],\n",
       "       [3.50000000e+01, 5.53169700e+04, 1.81727776e+02],\n",
       "       [3.30000000e+01, 4.40782400e+04, 1.74791771e+02],\n",
       "       [4.80000000e+01, 3.44180900e+04, 1.42492420e+02],\n",
       "       [5.20000000e+01, 5.82958200e+04, 1.57621153e+02],\n",
       "       [3.20000000e+01, 3.10929300e+04, 1.64712934e+02],\n",
       "       [3.30000000e+01, 6.17719000e+04, 1.90671587e+02],\n",
       "       [2.30000000e+01, 3.10724400e+04, 1.78872245e+02],\n",
       "       [2.90000000e+01, 6.11720700e+04, 1.96434448e+02],\n",
       "       [2.60000000e+01, 6.33737000e+04, 2.03136280e+02],\n",
       "       [3.90000000e+01, 5.23401000e+04, 1.72754877e+02],\n",
       "       [3.20000000e+01, 6.71134600e+04, 1.97040863e+02],\n",
       "       [2.30000000e+01, 6.44339900e+04, 2.08813776e+02],\n",
       "       [3.10000000e+01, 6.74796200e+04, 1.98944787e+02],\n",
       "       [5.00000000e+01, 4.88261400e+04, 1.52272846e+02],\n",
       "       [3.50000000e+01, 7.24239700e+04, 1.97081073e+02],\n",
       "       [3.30000000e+01, 3.09760000e+04, 1.63032691e+02],\n",
       "       [3.30000000e+01, 5.45415600e+04, 1.84182457e+02],\n",
       "       [2.80000000e+01, 4.55939300e+04, 1.84028582e+02],\n",
       "       [4.00000000e+01, 7.02256000e+04, 1.87231566e+02],\n",
       "       [3.40000000e+01, 7.01791100e+04, 1.96641642e+02],\n",
       "       [4.90000000e+01, 6.65248000e+04, 1.69732449e+02],\n",
       "       [4.20000000e+01, 6.75751200e+04, 1.81702197e+02],\n",
       "       [2.90000000e+01, 5.70323600e+04, 1.92719115e+02],\n",
       "       [5.20000000e+01, 5.35754800e+04, 1.53384713e+02],\n",
       "       [2.10000000e+01, 4.83761400e+04, 1.97552677e+02],\n",
       "       [4.00000000e+01, 7.11570500e+04, 1.88067530e+02],\n",
       "       [3.10000000e+01, 6.84418500e+04, 1.99808375e+02],\n",
       "       [3.20000000e+01, 6.94818500e+04, 1.99166461e+02],\n",
       "       [4.30000000e+01, 4.84535500e+04, 1.62965551e+02],\n",
       "       [3.10000000e+01, 6.61769700e+04, 1.97775677e+02],\n",
       "       [3.10000000e+01, 3.95524900e+04, 1.73880573e+02],\n",
       "       [4.90000000e+01, 5.10675400e+04, 1.55859771e+02],\n",
       "       [2.80000000e+01, 5.71799100e+04, 1.94426839e+02],\n",
       "       [2.80000000e+01, 5.67254700e+04, 1.94018986e+02],\n",
       "       [2.90000000e+01, 7.23259100e+04, 2.06444865e+02],\n",
       "       [3.20000000e+01, 6.83244800e+04, 1.98127737e+02],\n",
       "       [3.40000000e+01, 7.05471600e+04, 1.96971962e+02],\n",
       "       [3.30000000e+01, 7.27078700e+04, 2.00486469e+02],\n",
       "       [4.50000000e+01, 6.77821700e+04, 1.77162121e+02],\n",
       "       [5.10000000e+01, 4.55224400e+04, 1.47732521e+02],\n",
       "       [2.80000000e+01, 4.86795400e+04, 1.86797874e+02],\n",
       "       [4.50000000e+01, 6.38838100e+04, 1.73663397e+02],\n",
       "       [2.90000000e+01, 6.11612900e+04, 1.96424773e+02],\n",
       "       [3.90000000e+01, 7.33922800e+04, 1.91648918e+02],\n",
       "       [3.00000000e+01, 5.20973200e+04, 1.86714685e+02],\n",
       "       [2.10000000e+01, 4.85371800e+04, 1.97697208e+02],\n",
       "       [4.50000000e+01, 3.56848200e+04, 1.48355192e+02],\n",
       "       [3.10000000e+01, 6.66368400e+04, 1.98188404e+02],\n",
       "       [3.60000000e+01, 6.67446500e+04, 1.90408662e+02],\n",
       "       [3.50000000e+01, 7.33476700e+04, 1.97910081e+02],\n",
       "       [4.30000000e+01, 2.80287400e+04, 1.44634566e+02],\n",
       "       [2.50000000e+01, 5.24161800e+04, 1.94877357e+02],\n",
       "       [2.70000000e+01, 4.80988600e+04, 1.87852022e+02],\n",
       "       [3.30000000e+01, 5.26864700e+04, 1.82517539e+02],\n",
       "       [5.30000000e+01, 6.31001300e+04, 1.60357655e+02],\n",
       "       [4.30000000e+01, 4.31551900e+04, 1.58210346e+02],\n",
       "       [4.40000000e+01, 4.41742500e+04, 1.57549639e+02],\n",
       "       [3.70000000e+01, 6.73074300e+04, 1.89338449e+02],\n",
       "       [2.20000000e+01, 3.84276600e+04, 1.87048753e+02],\n",
       "       [4.40000000e+01, 6.59537600e+04, 1.77096449e+02],\n",
       "       [4.00000000e+01, 3.12657500e+04, 1.52265638e+02],\n",
       "       [4.00000000e+01, 3.77132300e+04, 1.58052162e+02],\n",
       "       [4.50000000e+01, 6.33630400e+04, 1.73196013e+02],\n",
       "       [3.80000000e+01, 5.07236700e+04, 1.72879453e+02],\n",
       "       [4.20000000e+01, 4.29078900e+04, 1.59563698e+02],\n",
       "       [3.30000000e+01, 6.49024700e+04, 1.93481230e+02],\n",
       "       [3.90000000e+01, 4.97428300e+04, 1.70423862e+02],\n",
       "       [4.30000000e+01, 7.35380900e+04, 1.85478580e+02],\n",
       "       [2.50000000e+01, 6.08433200e+04, 2.02440599e+02],\n",
       "       [3.80000000e+01, 6.17571200e+04, 1.82781822e+02],\n",
       "       [4.10000000e+01, 5.02788900e+04, 1.67754369e+02],\n",
       "       [2.20000000e+01, 5.89530100e+04, 2.05469972e+02],\n",
       "       [2.00000000e+01, 3.86092000e+04, 1.90362283e+02],\n",
       "       [3.80000000e+01, 1.99917200e+04, 1.45297951e+02],\n",
       "       [2.70000000e+01, 6.34291800e+04, 2.01610773e+02],\n",
       "       [5.00000000e+01, 4.09269300e+04, 1.45183414e+02],\n",
       "       [2.60000000e+01, 5.88201600e+04, 1.99049541e+02],\n",
       "       [3.50000000e+01, 5.48759500e+04, 1.81331967e+02],\n",
       "       [3.50000000e+01, 4.83476400e+04, 1.75472899e+02],\n",
       "       [3.30000000e+01, 6.65740000e+04, 1.94981406e+02],\n",
       "       [3.80000000e+01, 7.21962900e+04, 1.92150833e+02],\n",
       "       [2.40000000e+01, 5.22529100e+04, 1.96306125e+02],\n",
       "       [2.90000000e+01, 4.13358400e+04, 1.78631705e+02],\n",
       "       [3.60000000e+01, 5.83484100e+04, 1.82873152e+02],\n",
       "       [3.70000000e+01, 5.18472600e+04, 1.75463159e+02],\n",
       "       [3.90000000e+01, 4.28982100e+04, 1.64280910e+02],\n",
       "       [3.40000000e+01, 7.23305700e+04, 1.98572548e+02],\n",
       "       [3.40000000e+01, 5.89093600e+04, 1.86527197e+02],\n",
       "       [3.00000000e+01, 3.98096900e+04, 1.75686706e+02],\n",
       "       [5.60000000e+01, 5.04914500e+04, 1.44315639e+02],\n",
       "       [2.80000000e+01, 6.29279600e+04, 1.99585635e+02],\n",
       "       [4.10000000e+01, 7.58051200e+04, 1.90663808e+02],\n",
       "       [3.50000000e+01, 6.27909600e+04, 1.88435579e+02],\n",
       "       [4.20000000e+01, 7.94848000e+04, 1.92390971e+02],\n",
       "       [3.00000000e+01, 3.32580900e+04, 1.69806736e+02],\n",
       "       [4.00000000e+01, 4.45594300e+04, 1.64196532e+02],\n",
       "       [4.60000000e+01, 5.31853400e+04, 1.62486368e+02],\n",
       "       [4.00000000e+01, 4.73389400e+04, 1.66691104e+02],\n",
       "       [3.20000000e+01, 6.10675800e+04, 1.91614769e+02],\n",
       "       [2.90000000e+01, 7.39109000e+04, 2.07867372e+02],\n",
       "       [4.30000000e+01, 5.36478100e+04, 1.67627328e+02],\n",
       "       [2.50000000e+01, 5.30589100e+04, 1.95454199e+02],\n",
       "       [4.90000000e+01, 4.69310300e+04, 1.52147311e+02],\n",
       "       [2.90000000e+01, 6.39651600e+04, 1.98941208e+02],\n",
       "       [3.30000000e+01, 4.85544500e+04, 1.78809108e+02],\n",
       "       [2.90000000e+01, 5.57644300e+04, 1.91581165e+02],\n",
       "       [4.00000000e+01, 6.54619200e+04, 1.82956229e+02],\n",
       "       [4.10000000e+01, 6.49271900e+04, 1.80901016e+02],\n",
       "       [3.30000000e+01, 6.84489400e+04, 1.96664138e+02],\n",
       "       [3.50000000e+01, 2.56039300e+04, 1.55060732e+02],\n",
       "       [4.30000000e+01, 6.84471700e+04, 1.80909550e+02],\n",
       "       [2.80000000e+01, 6.37275000e+04, 2.00303211e+02],\n",
       "       [3.70000000e+01, 6.77445600e+04, 1.89730767e+02],\n",
       "       [5.50000000e+01, 5.51216500e+04, 1.50046479e+02],\n",
       "       [2.90000000e+01, 6.70809400e+04, 2.01737577e+02],\n",
       "       [3.10000000e+01, 4.94574800e+04, 1.82770165e+02],\n",
       "       [4.40000000e+01, 4.95253700e+04, 1.62352195e+02],\n",
       "       [4.10000000e+01, 7.85209900e+04, 1.93101264e+02],\n",
       "       [2.60000000e+01, 4.69741500e+04, 1.88417910e+02],\n",
       "       [2.70000000e+01, 6.32748800e+04, 2.01472291e+02],\n",
       "       [3.40000000e+01, 7.57698200e+04, 2.01659227e+02],\n",
       "       [2.70000000e+01, 4.77084200e+04, 1.87501608e+02],\n",
       "       [3.70000000e+01, 4.64031800e+04, 1.70577173e+02],\n",
       "       [2.60000000e+01, 6.08455500e+04, 2.00867301e+02],\n",
       "       [3.50000000e+01, 6.92856900e+04, 1.94264510e+02],\n",
       "       [1.90000000e+01, 4.04788300e+04, 1.93615550e+02],\n",
       "       [4.00000000e+01, 6.34936000e+04, 1.81189689e+02],\n",
       "       [3.50000000e+01, 6.58265300e+04, 1.91159962e+02],\n",
       "       [2.90000000e+01, 6.65041600e+04, 2.01219925e+02],\n",
       "       [2.70000000e+01, 5.59011200e+04, 1.94854443e+02],\n",
       "       [5.30000000e+01, 4.54652500e+04, 1.44530593e+02],\n",
       "       [3.10000000e+01, 6.57047900e+04, 1.97351902e+02],\n",
       "       [2.70000000e+01, 6.52277900e+04, 2.03225001e+02],\n",
       "       [2.20000000e+01, 4.18513800e+04, 1.90121495e+02],\n",
       "       [3.00000000e+01, 6.88620000e+04, 2.01760754e+02],\n",
       "       [3.40000000e+01, 4.27602200e+04, 1.72033566e+02],\n",
       "       [4.40000000e+01, 5.12572600e+04, 1.63906543e+02],\n",
       "       [2.30000000e+01, 5.18647700e+04, 1.97533074e+02],\n",
       "       [5.30000000e+01, 5.14631700e+04, 1.49913644e+02],\n",
       "       [4.20000000e+01, 6.58567400e+04, 1.80159975e+02],\n",
       "       [2.50000000e+01, 2.54082100e+04, 1.70638076e+02],\n",
       "       [2.60000000e+01, 5.30494400e+04, 1.93870399e+02],\n",
       "       [3.60000000e+01, 5.88497700e+04, 1.83323116e+02],\n",
       "       [2.70000000e+01, 2.80190900e+04, 1.69830705e+02],\n",
       "       [2.00000000e+01, 4.95444100e+04, 2.00176483e+02],\n",
       "       [4.70000000e+01, 6.27225700e+04, 1.69470600e+02],\n",
       "       [5.70000000e+01, 4.55809200e+04, 1.38333206e+02],\n",
       "       [3.70000000e+01, 7.36875000e+04, 1.95064474e+02],\n",
       "       [3.50000000e+01, 5.14732800e+04, 1.78278117e+02],\n",
       "       [2.90000000e+01, 5.10151100e+04, 1.87318716e+02],\n",
       "       [3.50000000e+01, 6.24637000e+04, 1.88141868e+02],\n",
       "       [4.80000000e+01, 4.79298300e+04, 1.54619020e+02],\n",
       "       [4.40000000e+01, 3.38130800e+04, 1.48250631e+02],\n",
       "       [2.50000000e+01, 4.59598600e+04, 1.89082899e+02],\n",
       "       [2.80000000e+01, 6.60251100e+04, 2.02365284e+02],\n",
       "       [4.50000000e+01, 5.19204900e+04, 1.62926482e+02],\n",
       "       [3.00000000e+01, 3.41911300e+04, 1.70644126e+02],\n",
       "       [4.60000000e+01, 3.64249400e+04, 1.47444140e+02],\n",
       "       [2.80000000e+01, 5.99671900e+04, 1.96928385e+02],\n",
       "       [3.60000000e+01, 7.07013100e+04, 1.93959709e+02],\n",
       "       [5.00000000e+01, 6.09387300e+04, 1.63143728e+02],\n",
       "       [3.80000000e+01, 3.68340400e+04, 1.60413701e+02],\n",
       "       [3.10000000e+01, 6.23183800e+04, 1.94312645e+02],\n",
       "       [3.40000000e+01, 6.70501600e+04, 1.93833453e+02],\n",
       "       [3.90000000e+01, 3.49422600e+04, 1.57140555e+02],\n",
       "       [2.30000000e+01, 5.66051200e+04, 2.01787473e+02],\n",
       "       [2.40000000e+01, 6.02839800e+04, 2.03513899e+02],\n",
       "       [3.60000000e+01, 5.73304300e+04, 1.81959529e+02],\n",
       "       [2.90000000e+01, 6.97181900e+04, 2.04104473e+02],\n",
       "       [4.40000000e+01, 4.57164800e+04, 1.58933769e+02],\n",
       "       [3.10000000e+01, 5.93409900e+04, 1.91640479e+02],\n",
       "       [3.00000000e+01, 7.55351400e+04, 2.07749805e+02],\n",
       "       [3.10000000e+01, 5.90479100e+04, 1.91377444e+02],\n",
       "       [4.40000000e+01, 2.40300600e+04, 1.39470506e+02],\n",
       "       [2.70000000e+01, 7.18818400e+04, 2.09196919e+02],\n",
       "       [5.30000000e+01, 4.30737800e+04, 1.42384282e+02],\n",
       "       [4.10000000e+01, 7.74600700e+04, 1.92149103e+02],\n",
       "       [4.20000000e+01, 4.38817300e+04, 1.60437706e+02],\n",
       "       [2.60000000e+01, 2.98758000e+04, 1.73072377e+02],\n",
       "       [2.30000000e+01, 3.96160000e+04, 1.86539972e+02],\n",
       "       [3.90000000e+01, 4.71605300e+04, 1.68106284e+02],\n",
       "       [3.10000000e+01, 5.51878500e+04, 1.87913093e+02],\n",
       "       [4.90000000e+01, 5.33367600e+04, 1.57896365e+02],\n",
       "       [2.90000000e+01, 5.97976400e+04, 1.95200916e+02],\n",
       "       [4.20000000e+01, 7.00055100e+04, 1.83883438e+02],\n",
       "       [6.00000000e+01, 6.05759900e+04, 1.47065174e+02],\n",
       "       [2.90000000e+01, 7.04101100e+04, 2.04725461e+02],\n",
       "       [2.70000000e+01, 6.68616700e+04, 2.04691385e+02],\n",
       "       [4.20000000e+01, 5.21774000e+04, 1.67882955e+02],\n",
       "       [4.20000000e+01, 7.26844400e+04, 1.86287741e+02],\n",
       "       [2.30000000e+01, 5.97615600e+04, 2.04620335e+02],\n",
       "       [2.70000000e+01, 4.87611400e+04, 1.88446409e+02],\n",
       "       [4.60000000e+01, 2.34107500e+04, 1.35764084e+02],\n",
       "       [4.30000000e+01, 6.55760500e+04, 1.78332759e+02],\n",
       "       [2.30000000e+01, 3.41272100e+04, 1.81613859e+02],\n",
       "       [4.60000000e+01, 4.65001100e+04, 1.56486466e+02],\n",
       "       [2.50000000e+01, 6.91128400e+04, 2.09862379e+02]])"
      ]
     },
     "execution_count": 11,
     "metadata": {},
     "output_type": "execute_result"
    }
   ],
   "source": [
    "y_pred = lr.predict(X_test)\n",
    "y_pred"
   ]
  },
  {
   "cell_type": "code",
   "execution_count": 13,
   "metadata": {},
   "outputs": [
    {
     "name": "stdout",
     "output_type": "stream",
     "text": [
      "[[ 1.00000000e+00  1.90273109e-20]\n",
      " [-7.23227706e-14  1.00000000e+00]\n",
      " [-1.57530000e+00  8.97486215e-04]]\n"
     ]
    }
   ],
   "source": [
    "print(lr.coef_)"
   ]
  },
  {
   "cell_type": "code",
   "execution_count": 14,
   "metadata": {},
   "outputs": [
    {
     "name": "stdout",
     "output_type": "stream",
     "text": [
      "[1.42108547e-14 2.18278728e-11 1.87217058e+02]\n"
     ]
    }
   ],
   "source": [
    "print(lr.intercept_)"
   ]
  },
  {
   "cell_type": "code",
   "execution_count": 15,
   "metadata": {},
   "outputs": [
    {
     "data": {
      "text/plain": [
       "0.7292303657474276"
      ]
     },
     "execution_count": 15,
     "metadata": {},
     "output_type": "execute_result"
    }
   ],
   "source": [
    "from sklearn.metrics import r2_score\n",
    "r2_score(y_test,y_pred)"
   ]
  },
  {
   "cell_type": "code",
   "execution_count": null,
   "metadata": {},
   "outputs": [],
   "source": []
  }
 ],
 "metadata": {
  "kernelspec": {
   "display_name": "Python 3",
   "language": "python",
   "name": "python3"
  },
  "language_info": {
   "codemirror_mode": {
    "name": "ipython",
    "version": 3
   },
   "file_extension": ".py",
   "mimetype": "text/x-python",
   "name": "python",
   "nbconvert_exporter": "python",
   "pygments_lexer": "ipython3",
   "version": "3.8.5"
  }
 },
 "nbformat": 4,
 "nbformat_minor": 4
}
